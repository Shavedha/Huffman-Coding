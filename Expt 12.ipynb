{
 "cells": [
  {
   "cell_type": "code",
   "execution_count": 2,
   "id": "cc3550ce",
   "metadata": {},
   "outputs": [
    {
     "name": "stdout",
     "output_type": "stream",
     "text": [
      " Char | Huffman code \n",
      "---------------------\n",
      " '2'  |           01\n",
      " '1'  |          100\n",
      " '0'  |         1011\n",
      " ' '  |         1010\n",
      " 'h'  |         1101\n",
      " 'a'  |         1100\n",
      " '3'  |         0001\n",
      " '9'  |         0000\n",
      " '5'  |         0011\n",
      " 'S'  |         0010\n",
      " 'v'  |        11101\n",
      " 'e'  |        11100\n",
      " 'd'  |        11111\n",
      " 'Y'  |        11110\n"
     ]
    }
   ],
   "source": [
    "string = '212221230095 Shavedha Y'\n",
    "# Creating Tree Nodes\n",
    "class NodeTree(object):\n",
    "    def __init__(self,left=None,right=None):\n",
    "        self.left = left\n",
    "        self.right = right\n",
    "    def children(self):\n",
    "        return (self.left,self.right)\n",
    "    \n",
    "# Main function for implementing huffman coding\n",
    "def huffman_code_tree(node,left=True,binString=''):\n",
    "    if type(node) is str:\n",
    "        return {node: binString}\n",
    "    (l, r) = node.children()\n",
    "    d = dict()\n",
    "    d.update(huffman_code_tree(l, True, binString + '0'))\n",
    "    d.update(huffman_code_tree(r, False, binString + '1'))\n",
    "    return d\n",
    "# Calculating Frequency\n",
    "freq = {}\n",
    "for c in string:\n",
    "    if c in freq:\n",
    "        freq[c] += 1\n",
    "    else:\n",
    "        freq[c] = 1\n",
    "freq = sorted(freq.items(),key=lambda x: x[1], reverse=True)\n",
    "nodes = freq\n",
    "while len(nodes)>1:\n",
    "    (key1, c1) = nodes[-1]\n",
    "    (key2, c2) = nodes[-2]\n",
    "    nodes = nodes[:-2]\n",
    "    node = NodeTree(key1,key2)\n",
    "    nodes.append((node,c1+c2))\n",
    "    nodes = sorted(nodes, key=lambda x: x[1], reverse=True)\n",
    "    \n",
    "huffmanCode = huffman_code_tree(nodes[0][0])\n",
    "print(' Char | Huffman code ')\n",
    "print('---------------------')\n",
    "for (char, frequency) in freq:\n",
    "    print(' %-4r | %12s' % (char, huffmanCode[char]))"
   ]
  },
  {
   "cell_type": "code",
   "execution_count": null,
   "id": "57a720b3",
   "metadata": {},
   "outputs": [],
   "source": []
  }
 ],
 "metadata": {
  "kernelspec": {
   "display_name": "Python 3 (ipykernel)",
   "language": "python",
   "name": "python3"
  },
  "language_info": {
   "codemirror_mode": {
    "name": "ipython",
    "version": 3
   },
   "file_extension": ".py",
   "mimetype": "text/x-python",
   "name": "python",
   "nbconvert_exporter": "python",
   "pygments_lexer": "ipython3",
   "version": "3.10.9"
  }
 },
 "nbformat": 4,
 "nbformat_minor": 5
}
